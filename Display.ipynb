{
 "cells": [
  {
   "cell_type": "markdown",
   "metadata": {},
   "source": [
    "# Display\n",
    "\n",
    "run HGD model on CIFAR-10"
   ]
  },
  {
   "cell_type": "markdown",
   "metadata": {},
   "source": [
    "Finished:\n",
    "    - prepare data set\n",
    "    - Inception v4\n",
    "\n",
    "Target:\n",
    "    - Inceptionresnet v2\n",
    "    - generate adversarial example:\n",
    "        - L-BFGS\n",
    "        - FGSM\n",
    "        - IFGSMn\n",
    "    - HGD denoiser\n",
    "    - defense model using pixel denoiser and guided denoiser\n"
   ]
  },
  {
   "cell_type": "code",
   "execution_count": null,
   "metadata": {},
   "outputs": [],
   "source": []
  },
  {
   "cell_type": "markdown",
   "metadata": {},
   "source": [
    "# Formalization\n",
    "\n",
    "## Notation\n",
    "\\begin{align*}\n",
    "&\\mathcal{X} \\subseteqq [-1, 1]^{n}\\ &\\text{Example set} \\\\\n",
    "&\\mathcal{X}^{\\star}\\subseteqq [-1, 1]^{n}\\ &\\text{Adversarial example set} \\\\\n",
    "&\\mathcal{Y}\\subseteqq {0, 1}^{c}\\ &\\text{Label set}\\\\\n",
    "&f:\\mathcal{X} \\to \\mathcal{Y}\\quad f(x)= p(y|x) \\  \\ &\\text{classifier}\\\\\n",
    "&f_{l}(x)\\ &\\text{output value as lth layer}\\\\\n",
    "&J(x, y_{true})\\ &\\text{ the loss function which is often cross-entorpy}\\\\\n",
    "&x^{\\star} \\ &\\text{Adversarial example}\\\\\n",
    "&g: \\mathcal{X}\\to \\mathcal{X}^{\\star}\\ &\\text{generate adversarial example}\\\\\n",
    "\\end{align*}\n"
   ]
  }
 ],
 "metadata": {
  "kernelspec": {
   "display_name": "Python 3",
   "language": "python",
   "name": "python3"
  },
  "language_info": {
   "codemirror_mode": {
    "name": "ipython",
    "version": 3
   },
   "file_extension": ".py",
   "mimetype": "text/x-python",
   "name": "python",
   "nbconvert_exporter": "python",
   "pygments_lexer": "ipython3",
   "version": "3.6.7"
  }
 },
 "nbformat": 4,
 "nbformat_minor": 2
}
